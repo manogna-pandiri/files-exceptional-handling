{
 "cells": [
  {
   "cell_type": "markdown",
   "id": "3af2acb6-c596-466c-9ac6-f3f13f73ef1b",
   "metadata": {},
   "source": [
    "FILES, EXCEPTIONAL HANDILING, LOGGING AND MEMORY MANAGEMENT ASSIGNMENT"
   ]
  },
  {
   "cell_type": "markdown",
   "id": "d638c186-7589-4ae0-b787-b345fd1b997b",
   "metadata": {},
   "source": [
    "THEORECICAL QUESTIONS"
   ]
  },
  {
   "cell_type": "markdown",
   "id": "93f389b4-8f88-4b90-a3a3-7cea774f9d8e",
   "metadata": {},
   "source": [
    "# 1. What is the the difference between interpreted and compiled languages?\n",
    "A. Compiled and interpreted languages differ in how they execute code. Compiled languages, like C or C++, convert the entire code into machine language before running, resulting in faster execution but slower debugging. Interpreted languages, like Python , run the code line by line using an interpreter, making them easier to test and debug but generally slower in performance.\n",
    "\n",
    "# 2. What is exception handling in Python?\n",
    "A. In Python, Exception handling is a method used to manage errors that occur during program execution, allowing the program to continue running or exit gracefully instead of breaking. It uses the try, except, else, and finally blocks to catch and handle exceptions. \n",
    "\n",
    "# 3. What is the purpose of the finally block in exception handling? \n",
    "A. The purpose of the finally block in Python exception handling is to define code that should run no matter what—whether an exception occurred or not. It is commonly used for cleanup actions like closing files, releasing resources, or ending database connections. This ensures that important final steps are always executed, even if an error interrupts the normal flow of the program.\n",
    " \n",
    "# 4. What is logging in Python? give in brief para?\n",
    "A. In Python, Logging is a way to record messages about a program’s execution for debugging. Instead of using print statements, Python’s built-in logging module provides a flexible system for writing logs at different severity levels like DEBUG, INFO, WARNING, ERROR, and CRITICAL. Logs can be saved to files or shown on the console, helping developers understand the behavior of a program over time.\n",
    "\n",
    "# 5. What is the significance of the __del__ method in Python?\n",
    "A. The __del__ method in Python is a destructor, which is automatically called when an object is about to be destroyed (i.e., when it’s garbage collected). It's used to perform cleanup tasks like closing files or releasing resources. However, relying on __del__ is generally discouraged because its execution time is uncertain and may be skipped if the program exits abruptly.\n",
    "\n",
    "# 6. What is the difference between import and from ... import in Python?\n",
    "A. In Python, 'import module' imports the whole module. You access functions or variables using the module name.\n",
    "'From module' Imports specific items from a module directly into your namespace, so you can use them without the module prefix.\n",
    "\n",
    "# 7. How can you handle multiple exceptions in Python?\n",
    "A. In Python, You can handle multiple exceptions by using multiple except blocks, each for a different exception type. Alternatively, you can use a single except block with a tuple of exceptions if they require the same handling.\n",
    "\n",
    "# 8. What is the purpose of the with statement when handling files in Python?\n",
    "A. The with statement is used for resource management — especially for opening files. It automatically handles opening and closing the file, even if an error occurs. This prevents resource leaks and makes code cleaner and safer.\n",
    "\n",
    "# 9. What is the difference between multithreading and multiprocessing?\n",
    "A. Multithreading and multiprocessing are both used to perform multiple tasks concurrently, but they work differently. \n",
    "Multithreading runs multiple threads within the same process and is best for I/O-bound tasks (like file or network operations) because threads share the same memory space. However, Python’s Global Interpreter Lock (GIL) prevents true parallel execution of threads on multiple CPU cores. \n",
    "On the other hand, multiprocessing runs multiple processes, each with its own memory space, and is ideal for CPU-bound tasks (like heavy calculations) since it can fully utilize multiple CPU cores. \n",
    "\n",
    "# 10. What are the advantages of using logging in a program? \n",
    "A. Using logging in a program is important because it helps track and record the program’s execution, making it easier to debug issues, monitor performance, and understand how the software behaves in real-world use. Logs capture errors, warnings, and key events, which aids in troubleshooting problems, supports post-mortem analysis after failures, and improves the ability to maintain the code by providing clear insights into what happened and when.\n",
    "\n",
    "# 11. What is memory management in python?\n",
    "A. Memory management in Python is the process of efficiently allocating, using, and releasing memory while a program runs. Python handles this automatically through a built-in garbage collector that tracks and removes objects no longer in use to free up memory. It also uses private heaps to store objects and data structures, ensuring that memory is managed safely and effectively without direct user intervention, which helps developers focus more on coding logic rather than worrying about low-level memory details.\n",
    "\n",
    "# 12. What are the basic steps involved in expection handling in python?\n",
    "A. The basic steps involved in exception handling in Python are:\n",
    " 1. Try block: Wrap the code that might cause an exception inside a try block.\n",
    " 2. Except block: Add one or more except blocks to catch and handle specific exceptions that may occur.\n",
    " 3. Else block (optional): Use an else block to run code if no exception was raised in the try block.\n",
    " 4. Finally block (optional): Add a finally block to define code that should run no matter what—whether an exception occurred or not (e.g., closing        files or releasing resources).\n",
    "\n",
    "# 13. Why is memory management is important in python? \n",
    "A. Memory management is important in Python because it ensures that programs use memory efficiently and reliably, preventing memory leaks and excessive resource consumption that could slow down or crash applications. By automatically handling the allocation and deallocation of memory through mechanisms like garbage collection and private heaps, Python helps developers build stable and scalable software without needing to manually manage memory, which reduces errors and improves overall program performance.\n",
    "\n",
    "# 14. What is the role of try and expect in expection handling?\n",
    "A. In Python exception handling, the try block is used to wrap code that might potentially raise errors during execution, while the except block plays a crucial role in catching those errors and handling them gracefully—preventing the program from crashing, allowing developers to define fallback logic, display meaningful error messages, or safely recover and continue running the application without interruption.\n",
    "\n",
    "# 15. How does python's garbage collection system work? \n",
    "A. Python’s garbage collection system automatically manages memory by identifying and reclaiming objects that are no longer needed, helping prevent memory leaks and ensuring efficient memory use. It primarily relies on a technique called reference counting, where each object keeps track of how many references point to it; when this count drops to zero, the object can be safely deleted. Additionally, to handle cases like circular references—where objects reference each other but are no longer reachable from the program—Python uses a cyclic garbage collector that periodically scans for and cleans up these unreachable cycles, keeping memory usage balanced without requiring manual intervention from the programmer.\n",
    "\n",
    "# 16. What is the purpose of else block in expection handling?\n",
    "A. The purpose of the else block in exception handling is to define a section of code that should run only if no exceptions were raised in the associated try block. This helps keep the program logic clear by separating code that should run when everything goes smoothly from the code that handles errors in the except block. Using an else block makes it easier to write clean, readable, and well-structured programs by clearly distinguishing between normal execution and exception handling.\n",
    "\n",
    "# 17.What are the common logging levels in python? \n",
    "A. In Python, the logging module defines several common logging levels that indicate the severity of messages, helping developers control what gets logged and when. These levels, from lowest to highest severity, are DEBUG (detailed diagnostic information useful for debugging), INFO (general information about program execution), WARNING (indications that something unexpected happened but the program is still running), ERROR (more serious problems that have caused parts of the program to fail), and CRITICAL (very severe errors that may prevent the program from continuing). By using these levels appropriately, developers can produce meaningful, organized logs that make debugging and monitoring applications easier.\n",
    "\n",
    "# 18. What is the difference between os.fork() and multiprocessing in Python?\n",
    "A.The os.fork() function is a low-level system call available mainly on Unix-like systems that creates a child process by duplicating the parent process, allowing them to run in parallel; however, it requires manual handling of process management. In contrast, Python's multiprocessing module provides a higher-level, cross-platform API that makes it easier to create and manage separate processes, with built-in support for process pools, inter-process communication, and synchronization—making it more flexible and safer for writing portable, concurrent Python programs.\n",
    "\n",
    "# 19. What is the importance of closing a file in Python?\n",
    "A. Closing a file in Python is important because it ensures that all buffered data is properly written to disk, releases the system resources associated with the file, and prevents potential data corruption or memory leaks. It is considered good practice to always close files explicitly using the close() method or, preferably, by using the with statement, which automatically handles closing even if exceptions occur during file operations.\n",
    "\n",
    "# 20. What is the difference between file.read() and file.readline() in Python?\n",
    "A. The file.read() method reads the entire content of a file into a single string (or up to a specified number of bytes if given an argument), which is useful for small files. In contrast, file.readline() reads just one line at a time from the file, making it memory-efficient and suitable for processing large files line by line without loading the entire content into memory.\n",
    "\n",
    "# 21. What is the logging module in Python used for?\n",
    "A. The logging module in Python is used to record messages about a program's execution at different severity levels (like DEBUG, INFO, WARNING, ERROR, and CRITICAL). It helps developers track the program flow, capture diagnostic information, and debug or monitor applications effectively, all while supporting output to various destinations like the console, files, or external systems.\n",
    "\n",
    "# 22. What is the os module in Python used for in file handling?\n",
    "A. The os module in Python provides functions to interact with the operating system, which are useful in file handling for tasks like creating, removing, and renaming files or directories, checking file existence, changing file permissions, and working with file paths. It helps write platform-independent scripts that can manipulate the file system reliably.\n",
    "\n",
    "# 23. What are the challenges associated with memory management in Python?\n",
    "A. Challenges in memory management in Python include dealing with circular references where objects reference each other, which can’t be handled by simple reference counting alone; managing memory usage efficiently in long-running applications to prevent memory leaks; and optimizing the performance of applications that process large amounts of data, since Python abstracts memory management away from developers, making it less predictable at times.\n",
    "\n",
    "# 24. How do you raise an exception manually in Python?\n",
    "A. In Python, you can raise an exception manually using the raise keyword followed by an exception type, optionally with a custom error message. For example, raise ValueError(\"Invalid input\") immediately stops execution at that point and signals an error, which can then be caught by surrounding exception handling blocks.\n",
    "\n",
    "# 25. Why is it important to us multithreading in certain applications?\n",
    "A. Multithreading is important in applications that need to perform multiple I/O-bound tasks simultaneously, such as reading files, making network requests, or handling user interactions in graphical interfaces. It allows programs to remain responsive and efficient by overlapping waiting times, though for CPU-bound tasks in Python, multiprocessing is generally preferred due to the Global Interpreter Lock (GIL)."
   ]
  },
  {
   "cell_type": "markdown",
   "id": "809edfa3-0503-4bb8-9dda-acc6b70f5899",
   "metadata": {},
   "source": [
    "PRACTICAL QUESTIONS"
   ]
  },
  {
   "cell_type": "code",
   "execution_count": 2,
   "id": "a79f686d-92bb-40d1-a7cd-ce04847b5f41",
   "metadata": {},
   "outputs": [],
   "source": [
    "# 1. How can you open a file for writing in Python and write a string to it?\n",
    "\n",
    "with open(\"example.txt\", \"w\") as file:\n",
    "    file.write(\"This is a sample string.\")"
   ]
  },
  {
   "cell_type": "code",
   "execution_count": 3,
   "id": "2d8e299e-1201-4072-8556-5d479ccbe2d7",
   "metadata": {},
   "outputs": [
    {
     "name": "stdout",
     "output_type": "stream",
     "text": [
      "This is a sample string.\n"
     ]
    }
   ],
   "source": [
    "# 2. Write a Python program to read the contents of a file and print each line?\n",
    "\n",
    "with open(\"example.txt\", \"r\") as file:\n",
    "    for line in file:\n",
    "        print(line.strip())"
   ]
  },
  {
   "cell_type": "code",
   "execution_count": 1,
   "id": "464754f2-d407-4182-a525-7ebe1a16921b",
   "metadata": {},
   "outputs": [],
   "source": [
    "# 3. How would you handle a case where the file doesn't exist while trying to open it for reading?\n",
    "\n",
    "filename = \"example.txt\"\n",
    "\n",
    "try:\n",
    "    with open(filename, \"r\") as file:\n",
    "        for line in file:\n",
    "            print(line.strip())\n",
    "except FileNotFoundError:\n",
    "    print(f' Error: The file '{filename}' was not found. '"
   ]
  },
  {
   "cell_type": "code",
   "execution_count": 14,
   "id": "a9db9ca3-0972-4e72-9ec0-53fc1cddd2c6",
   "metadata": {},
   "outputs": [],
   "source": [
    "# 4. Write a Python script that reads from one file and writes its content to another file.\n",
    "\n",
    "with open(\"source.txt\", \"w\") as file:\n",
    "    file.write(\"Hello World. Welcome to Python\")\n",
    "    "
   ]
  },
  {
   "cell_type": "code",
   "execution_count": 15,
   "id": "ec4e6eb0-c1d7-420b-8964-438fbb6027f7",
   "metadata": {},
   "outputs": [
    {
     "name": "stdout",
     "output_type": "stream",
     "text": [
      "Contents copied from 'source.txt' to 'destination.txt' successfully.\n"
     ]
    }
   ],
   "source": [
    "source_file = \"source.txt\"\n",
    "destination_file = \"destination.txt\"\n",
    "\n",
    "try:\n",
    "    # Open source file for reading\n",
    "    with open(source_file, \"r\") as src:\n",
    "        # Open destination file for writing\n",
    "        with open(destination_file, \"w\") as dest:\n",
    "            # Read from source and write to destination\n",
    "            for line in src:\n",
    "                dest.write(line)\n",
    "\n",
    "    print(f\"Contents copied from '{source_file}' to '{destination_file}' successfully.\")\n",
    "\n",
    "except FileNotFoundError:\n",
    "    print(f\"Error: The file '{source_file}' was not found.\")"
   ]
  },
  {
   "cell_type": "code",
   "execution_count": 17,
   "id": "4226ae43-a119-4e13-955b-6e47754328dc",
   "metadata": {},
   "outputs": [
    {
     "name": "stdin",
     "output_type": "stream",
     "text": [
      "Enter the numerator:  4\n",
      "Enter the denominator:  0\n"
     ]
    },
    {
     "name": "stdout",
     "output_type": "stream",
     "text": [
      "Error: You cannot divide by zero.\n"
     ]
    }
   ],
   "source": [
    "# 5. How would you catch and handle division by zero error in Python?\n",
    "\n",
    "try:\n",
    "    numerator = int(input(\"Enter the numerator: \"))\n",
    "    denominator = int(input(\"Enter the denominator: \"))\n",
    "    result = numerator / denominator\n",
    "    print(\"Result:\", result)\n",
    "except ZeroDivisionError:\n",
    "    print(\"Error: You cannot divide by zero.\")"
   ]
  },
  {
   "cell_type": "code",
   "execution_count": 10,
   "id": "a254c6b8-1816-493d-bf92-d8f5a23a621e",
   "metadata": {},
   "outputs": [
    {
     "name": "stdin",
     "output_type": "stream",
     "text": [
      "Enter numerator:  6\n",
      "Enter denominator:  0\n"
     ]
    },
    {
     "name": "stdout",
     "output_type": "stream",
     "text": [
      "Error: Division by zero is not allowed.\n"
     ]
    }
   ],
   "source": [
    "# 6. Write a Python program that logs an error message to a log file when a division by zero exception occurs.\n",
    "\n",
    "import logging\n",
    "\n",
    "logging.basicConfig(filename=\"error_log.txt\", level=logging.ERROR,\n",
    "                    format=\"%(asctime)s - %(levelname)s - %(message)s\")\n",
    "\n",
    "try:\n",
    "    a = int(input(\"Enter numerator: \"))\n",
    "    b = int(input(\"Enter denominator: \"))\n",
    "    result = a / b\n",
    "    print(\"Result:\", result)\n",
    "except ZeroDivisionError:\n",
    "    print(\"Error: Division by zero is not allowed.\")\n",
    "    logging.error(\"Division by zero attempted.\")"
   ]
  },
  {
   "cell_type": "code",
   "execution_count": 9,
   "id": "f74ab0b8-11d9-4f51-aa15-9783c5aa54c7",
   "metadata": {},
   "outputs": [],
   "source": [
    "# 7. How do you log information at different levels (INFO, ERROR, WARNING) in Python using the logging module.\n",
    "\n",
    "import logging\n",
    "\n",
    "logging.basicConfig(filename=\"app.log\", level=logging.DEBUG,\n",
    "                    format=\"%(asctime)s - %(levelname)s - %(message)s\")\n",
    "\n",
    "# Log messages at different levels\n",
    "logging.debug(\"This is a DEBUG message.\")\n",
    "logging.info(\"This is an INFO message.\")\n",
    "logging.warning(\"This is a WARNING message.\")\n",
    "logging.error(\"This is an ERROR message.\")\n",
    "logging.critical(\"This is a CRITICAL message.\")"
   ]
  },
  {
   "cell_type": "code",
   "execution_count": 2,
   "id": "ea4fe4a8-9122-4963-a5f1-fbdac832e537",
   "metadata": {},
   "outputs": [
    {
     "name": "stdin",
     "output_type": "stream",
     "text": [
      "Enter the file name:  eg1.txt\n"
     ]
    },
    {
     "name": "stdout",
     "output_type": "stream",
     "text": [
      "Error: The file was not found. Please check the file name.\n"
     ]
    }
   ],
   "source": [
    "# 8. Write a program to handle a file opening error using exception handling.\n",
    "\n",
    "try:\n",
    "    filename = input(\"Enter the file name: \")\n",
    "    with open(filename, \"r\") as file:\n",
    "        content = file.read()\n",
    "        print(\"File content:\\n\", content)\n",
    "except FileNotFoundError:\n",
    "    print(\"Error: The file was not found. Please check the file name.\")\n",
    "except PermissionError:\n",
    "    print(\"Error: You do not have permission to open this file.\")\n",
    "except Exception as e:\n",
    "    print(f\"An unexpected error occurred: {e}\")"
   ]
  },
  {
   "cell_type": "code",
   "execution_count": 3,
   "id": "bfc677d0-4735-4463-9e4c-e278ed5e2aa9",
   "metadata": {},
   "outputs": [
    {
     "name": "stdout",
     "output_type": "stream",
     "text": [
      "['This is a sample string.']\n"
     ]
    }
   ],
   "source": [
    "# 9. How can you read a file line by line and store its content in a list in Python?\n",
    "\n",
    "with open(\"example.txt\", \"r\") as file:\n",
    "    lines = file.readlines()\n",
    "\n",
    "# Remove newline characters\n",
    "lines = [line.strip() for line in lines]\n",
    "\n",
    "print(lines)"
   ]
  },
  {
   "cell_type": "code",
   "execution_count": 7,
   "id": "e02f410f-9d20-4f45-87f3-52e64000b07a",
   "metadata": {},
   "outputs": [],
   "source": [
    "# 10. How can you append data to an existing file in Python?\n",
    "\n",
    "with open(\"example.txt\", \"a\") as file:\n",
    "    file.write(\"\\n This line is added to the file.\")"
   ]
  },
  {
   "cell_type": "code",
   "execution_count": 11,
   "id": "8b97c7a2-48ea-4846-bcf1-bef2e023c949",
   "metadata": {},
   "outputs": [
    {
     "name": "stdout",
     "output_type": "stream",
     "text": [
      "Error: The key 'grade' does not exist in the dictionary.\n"
     ]
    }
   ],
   "source": [
    "# 11. Write a Python program that uses a try-except block to handle an error when attempting to access a dictionary key that doesn't exist.\n",
    "\n",
    "student = {\n",
    "    \"name\": \"Manogna\",\n",
    "    \"age\": 21,\n",
    "    \"course\": \"Data Analytics\"\n",
    "}\n",
    "\n",
    "try:\n",
    "    grade = student[\"grade\"]\n",
    "    print(\"Grade:\", grade)\n",
    "except KeyError:\n",
    "    print(\"Error: The key 'grade' does not exist in the dictionary.\")"
   ]
  },
  {
   "cell_type": "code",
   "execution_count": 13,
   "id": "fbc84d2c-5f41-4275-b1e6-a7e4bc6cab0f",
   "metadata": {},
   "outputs": [
    {
     "name": "stdin",
     "output_type": "stream",
     "text": [
      "Enter the numerator:  10\n",
      "Enter the denominator:  0\n"
     ]
    },
    {
     "name": "stdout",
     "output_type": "stream",
     "text": [
      "Error: Division by zero is not allowed.\n"
     ]
    }
   ],
   "source": [
    "# 12. Write a program that demonstrates using multiple except blocks to handle different types of exceptions.\n",
    "\n",
    "try:\n",
    "    num1 = int(input(\"Enter the numerator: \"))\n",
    "    num2 = int(input(\"Enter the denominator: \"))\n",
    "    result = num1 / num2\n",
    "    print(\"Result:\", result)\n",
    "\n",
    "except ZeroDivisionError:\n",
    "    print(\"Error: Division by zero is not allowed.\")\n",
    "\n",
    "except ValueError:\n",
    "    print(\"Error: Please enter valid integer numbers.\")\n",
    "\n",
    "except Exception as e:\n",
    "    print(f\"An unexpected error occurred: {e}\")\n"
   ]
  },
  {
   "cell_type": "code",
   "execution_count": 14,
   "id": "4b1b22ac-3fe4-4cec-bd2c-6085e03ebbb9",
   "metadata": {},
   "outputs": [
    {
     "name": "stdout",
     "output_type": "stream",
     "text": [
      "This is a sample string.\n",
      " This line is added to the file.\n"
     ]
    }
   ],
   "source": [
    "# 13. How would you check if a file exists before attempting to read it in Python.\n",
    "\n",
    "import os\n",
    "\n",
    "filename = \"example.txt\"\n",
    "\n",
    "if os.path.exists(filename):\n",
    "    with open(filename, \"r\") as file:\n",
    "        content = file.read()\n",
    "        print(content)\n",
    "else:\n",
    "    print(f\"Error: The file '{filename}' does not exist.\")"
   ]
  },
  {
   "cell_type": "code",
   "execution_count": 1,
   "id": "b3fb9a22-c9c3-4426-ad6d-6fb1db530c89",
   "metadata": {},
   "outputs": [
    {
     "name": "stdin",
     "output_type": "stream",
     "text": [
      "Enter numerator:  8\n",
      "Enter denominator:  0\n"
     ]
    },
    {
     "name": "stdout",
     "output_type": "stream",
     "text": [
      "Error: Division by zero is not allowed.\n"
     ]
    }
   ],
   "source": [
    "# 14. Write a program that uses the logging module to log both informational and error messages.\n",
    "\n",
    "import logging\n",
    "\n",
    "logging.basicConfig(\n",
    "    filename=\"app_log.txt\",           \n",
    "    level=logging.INFO,               \n",
    "    format=\"%(asctime)s - %(levelname)s - %(message)s\")\n",
    "\n",
    "logging.info(\"Program started successfully.\")\n",
    "\n",
    "try:\n",
    "    a = int(input(\"Enter numerator: \"))\n",
    "    b = int(input(\"Enter denominator: \"))\n",
    "    result = a / b\n",
    "    print(\"Result:\", result)\n",
    "    logging.info(\"Division completed successfully.\")\n",
    "\n",
    "except ZeroDivisionError:\n",
    "    print(\"Error: Division by zero is not allowed.\")\n",
    "    logging.error(\"Attempted\")"
   ]
  },
  {
   "cell_type": "code",
   "execution_count": 2,
   "id": "e43acaa3-cb7d-44c7-8188-102d9c260e81",
   "metadata": {},
   "outputs": [
    {
     "name": "stdin",
     "output_type": "stream",
     "text": [
      "Enter the file name:  example.txt\n"
     ]
    },
    {
     "name": "stdout",
     "output_type": "stream",
     "text": [
      "File content:\n",
      "\n",
      "This is a sample string.\n",
      " This line is added to the file.\n"
     ]
    }
   ],
   "source": [
    "# 15. Write a Python program that prints the content of a file and handles the case when the file is empty.\n",
    "try:\n",
    "    filename = input(\"Enter the file name: \")\n",
    "\n",
    "    with open(filename, \"r\") as file:\n",
    "        content = file.read()\n",
    "\n",
    "        if content.strip() == \"\":\n",
    "            print(\"The file is empty.\")\n",
    "        else:\n",
    "            print(\"File content:\\n\")\n",
    "            print(content)\n",
    "\n",
    "except FileNotFoundError:\n",
    "    print(\"Error: The file was not found.\")\n",
    "except Exception as e:\n",
    "    print(f\"An unexpected error occurred: {e}\")"
   ]
  },
  {
   "cell_type": "code",
   "execution_count": 14,
   "id": "c762d951-77a0-42bf-9f05-d407e39fb11f",
   "metadata": {},
   "outputs": [
    {
     "name": "stdout",
     "output_type": "stream",
     "text": [
      "Requirement already satisfied: memory_profiler in c:\\users\\manog\\appdata\\local\\programs\\python\\python313\\lib\\site-packages (0.61.0)\n",
      "Requirement already satisfied: psutil in c:\\users\\manog\\appdata\\local\\programs\\python\\python313\\lib\\site-packages (from memory_profiler) (7.0.0)\n"
     ]
    }
   ],
   "source": [
    "# 16. Demonstrate how to use memory profiling to check the memory usage of a small program.\n",
    "\n",
    "! pip install memory_profiler"
   ]
  },
  {
   "cell_type": "code",
   "execution_count": 17,
   "id": "06800afe-a295-4b66-aada-4766bda5e0aa",
   "metadata": {},
   "outputs": [
    {
     "name": "stdout",
     "output_type": "stream",
     "text": [
      "ERROR: Could not find file C:\\Users\\Manog\\AppData\\Local\\Temp\\ipykernel_5804\\1563781944.py\n"
     ]
    },
    {
     "data": {
      "text/plain": [
       "[0,\n",
       " 1,\n",
       " 4,\n",
       " 9,\n",
       " 16,\n",
       " 25,\n",
       " 36,\n",
       " 49,\n",
       " 64,\n",
       " 81,\n",
       " 100,\n",
       " 121,\n",
       " 144,\n",
       " 169,\n",
       " 196,\n",
       " 225,\n",
       " 256,\n",
       " 289,\n",
       " 324,\n",
       " 361,\n",
       " 400,\n",
       " 441,\n",
       " 484,\n",
       " 529,\n",
       " 576,\n",
       " 625,\n",
       " 676,\n",
       " 729,\n",
       " 784,\n",
       " 841,\n",
       " 900,\n",
       " 961,\n",
       " 1024,\n",
       " 1089,\n",
       " 1156,\n",
       " 1225,\n",
       " 1296,\n",
       " 1369,\n",
       " 1444,\n",
       " 1521,\n",
       " 1600,\n",
       " 1681,\n",
       " 1764,\n",
       " 1849,\n",
       " 1936,\n",
       " 2025,\n",
       " 2116,\n",
       " 2209,\n",
       " 2304,\n",
       " 2401,\n",
       " 2500,\n",
       " 2601,\n",
       " 2704,\n",
       " 2809,\n",
       " 2916,\n",
       " 3025,\n",
       " 3136,\n",
       " 3249,\n",
       " 3364,\n",
       " 3481,\n",
       " 3600,\n",
       " 3721,\n",
       " 3844,\n",
       " 3969,\n",
       " 4096,\n",
       " 4225,\n",
       " 4356,\n",
       " 4489,\n",
       " 4624,\n",
       " 4761,\n",
       " 4900,\n",
       " 5041,\n",
       " 5184,\n",
       " 5329,\n",
       " 5476,\n",
       " 5625,\n",
       " 5776,\n",
       " 5929,\n",
       " 6084,\n",
       " 6241,\n",
       " 6400,\n",
       " 6561,\n",
       " 6724,\n",
       " 6889,\n",
       " 7056,\n",
       " 7225,\n",
       " 7396,\n",
       " 7569,\n",
       " 7744,\n",
       " 7921,\n",
       " 8100,\n",
       " 8281,\n",
       " 8464,\n",
       " 8649,\n",
       " 8836,\n",
       " 9025,\n",
       " 9216,\n",
       " 9409,\n",
       " 9604,\n",
       " 9801]"
      ]
     },
     "execution_count": 17,
     "metadata": {},
     "output_type": "execute_result"
    }
   ],
   "source": [
    "from memory_profiler import profile\n",
    "\n",
    "@profile\n",
    "def create_list():\n",
    "    my_list = [i ** 2 for i in range(100)]\n",
    "    return my_list\n",
    "\n",
    "create_list()"
   ]
  },
  {
   "cell_type": "code",
   "execution_count": 18,
   "id": "09ef19d1-da6f-4e1b-91dd-54b0c4db9fcf",
   "metadata": {},
   "outputs": [
    {
     "name": "stdout",
     "output_type": "stream",
     "text": [
      "Numbers written to 'numbers.txt' successfully.\n"
     ]
    }
   ],
   "source": [
    "# 17. Write a Python program to create and write a list of numbers to a file, one number per line\n",
    "\n",
    "numbers = [10, 20, 30, 40, 50]\n",
    "\n",
    "with open(\"numbers.txt\", \"w\") as file:\n",
    "    for num in numbers:\n",
    "        file.write(str(num) + \"\\n\")\n",
    "\n",
    "print(\"Numbers written to 'numbers.txt' successfully.\")"
   ]
  },
  {
   "cell_type": "code",
   "execution_count": 19,
   "id": "ea40076b-d81e-49d0-b424-629687ab2fff",
   "metadata": {},
   "outputs": [],
   "source": [
    "# 18.  How would you implement a basic logging setup that logs to a file with rotation after 1MB.\n",
    "\n",
    "import logging\n",
    "from logging.handlers import RotatingFileHandler\n",
    "\n",
    "logger = logging.getLogger(\"my_logger\")\n",
    "logger.setLevel(logging.INFO)  # Set logging level\n",
    "\n",
    "handler = RotatingFileHandler(\"my_log.log\", maxBytes=1_000_000, backupCount=3)\n",
    "\n",
    "formatter = logging.Formatter('%(asctime)s - %(levelname)s - %(message)s')\n",
    "handler.setFormatter(formatter)\n",
    "\n",
    "logger.addHandler(handler)\n",
    "\n",
    "for i in range(10000):\n",
    "    logger.info(f\"This is log message number {i}\")"
   ]
  },
  {
   "cell_type": "code",
   "execution_count": 20,
   "id": "b8c3efec-a8f1-4e9a-97a6-7fb5b8bedc7a",
   "metadata": {},
   "outputs": [
    {
     "name": "stdout",
     "output_type": "stream",
     "text": [
      "Caught an IndexError: list index out of range\n",
      "Caught a KeyError: 'z'\n"
     ]
    }
   ],
   "source": [
    "# 19. Write a program that handles both IndexError and KeyError using a try-except block.\n",
    "\n",
    "def handle_errors():\n",
    "    my_list = [1, 2, 3]\n",
    "    my_dict = {\"a\": 10, \"b\": 20}\n",
    "\n",
    "    try:\n",
    "        # This will raise IndexError\n",
    "        print(\"List item:\", my_list[5])\n",
    "    except IndexError as e:\n",
    "        print(\"Caught an IndexError:\", e)\n",
    "\n",
    "    try:\n",
    "        # This will raise KeyError\n",
    "        print(\"Dictionary value:\", my_dict[\"z\"])\n",
    "    except KeyError as e:\n",
    "        print(\"Caught a KeyError:\", e)\n",
    "\n",
    "handle_errors()"
   ]
  },
  {
   "cell_type": "code",
   "execution_count": 21,
   "id": "46293d72-2ed9-43c0-b9d7-16144018b117",
   "metadata": {},
   "outputs": [
    {
     "name": "stdout",
     "output_type": "stream",
     "text": [
      "File contents:\n",
      "This is a sample string.\n",
      " This line is added to the file.\n"
     ]
    }
   ],
   "source": [
    "# 20. How would you open a file and read its contents using a context manager in Python\n",
    "\n",
    "with open(\"example.txt\", \"r\") as file:\n",
    "    contents = file.read()\n",
    "\n",
    "print(\"File contents:\")\n",
    "print(contents)"
   ]
  },
  {
   "cell_type": "code",
   "execution_count": 24,
   "id": "7c806a83-9219-45bb-8142-b363c0d0162c",
   "metadata": {},
   "outputs": [],
   "source": [
    " # 21. Write a Python program that reads a file and prints the number of occurrences of a specific word.\n",
    "\n",
    "with open(\"sample.txt\", \"w\") as file:\n",
    "    file.write(\"Hello World. \\n Python is great. \\n Python is simple\")"
   ]
  },
  {
   "cell_type": "code",
   "execution_count": 25,
   "id": "7569e06c-12f9-4491-9f28-30c4537b3a20",
   "metadata": {},
   "outputs": [
    {
     "name": "stdout",
     "output_type": "stream",
     "text": [
      "The word 'python' occurs 2 times in the file.\n"
     ]
    }
   ],
   "source": [
    "def count_word_in_file(filename, word_to_count):\n",
    "    try:\n",
    "        with open(filename, 'r') as file:\n",
    "            content = file.read()\n",
    "            \n",
    "        # Convert both content and target word to lowercase for case-insensitive matching\n",
    "        words = content.lower().split()\n",
    "        word_to_count = word_to_count.lower()\n",
    "\n",
    "        count = words.count(word_to_count)\n",
    "        print(f\"The word '{word_to_count}' occurs {count} times in the file.\")\n",
    "    \n",
    "    except FileNotFoundError:\n",
    "        print(f\"Error: The file '{filename}' was not found.\")\n",
    "    except Exception as e:\n",
    "        print(\"An error occurred:\", e)\n",
    "\n",
    "# Example usage\n",
    "filename = \"sample.txt\"         # Replace with your actual file name\n",
    "word_to_count = \"python\"        # Replace with the word you want to count\n",
    "\n",
    "count_word_in_file(filename, word_to_count)"
   ]
  },
  {
   "cell_type": "code",
   "execution_count": 26,
   "id": "75ed5151-b0a5-4dc2-a5aa-db0228f4cfe6",
   "metadata": {},
   "outputs": [
    {
     "name": "stdout",
     "output_type": "stream",
     "text": [
      "File contents:\n",
      "This is a sample string.\n",
      " This line is added to the file.\n"
     ]
    }
   ],
   "source": [
    "# 22. How can you check if a file is empty before attempting to read its contents.\n",
    "\n",
    "import os\n",
    "\n",
    "filename = \"example.txt\"\n",
    "\n",
    "if os.path.exists(filename) and os.path.getsize(filename) == 0:\n",
    "    print(\"The file is empty.\")\n",
    "else:\n",
    "    with open(filename, 'r') as file:\n",
    "        contents = file.read()\n",
    "        print(\"File contents:\")\n",
    "        print(contents)"
   ]
  },
  {
   "cell_type": "code",
   "execution_count": 1,
   "id": "f5db1313-931e-4357-9927-35cde33d599b",
   "metadata": {},
   "outputs": [
    {
     "name": "stdout",
     "output_type": "stream",
     "text": [
      "An error occurred. Check the log file for details.\n"
     ]
    }
   ],
   "source": [
    "# 23. Write a Python program that writes to a log file when an error occurs during file handling.\n",
    "\n",
    "import logging\n",
    "\n",
    "logging.basicConfig(\n",
    "    filename='file_errors.log',\n",
    "    level=logging.ERROR,\n",
    "    format='%(asctime)s - %(levelname)s - %(message)s')\n",
    "\n",
    "def read_file(filename):\n",
    "    try:\n",
    "        with open(filename, 'r') as file:\n",
    "            content = file.read()\n",
    "            print(\"File content:\")\n",
    "            print(content)\n",
    "    except Exception as e:\n",
    "        logging.error(f\"Error reading file '{filename}': {e}\")\n",
    "        print(\"An error occurred. Check the log file for details.\")\n",
    "\n",
    "# Example usage\n",
    "read_file(\"nonexistent_file.txt\")"
   ]
  }
 ],
 "metadata": {
  "kernelspec": {
   "display_name": "Python 3 (ipykernel)",
   "language": "python",
   "name": "python3"
  },
  "language_info": {
   "codemirror_mode": {
    "name": "ipython",
    "version": 3
   },
   "file_extension": ".py",
   "mimetype": "text/x-python",
   "name": "python",
   "nbconvert_exporter": "python",
   "pygments_lexer": "ipython3",
   "version": "3.13.5"
  }
 },
 "nbformat": 4,
 "nbformat_minor": 5
}
